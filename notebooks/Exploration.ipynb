{
 "cells": [
  {
   "cell_type": "markdown",
   "id": "71814691",
   "metadata": {},
   "source": [
    "# Data Exploration and Visualizations\n"
   ]
  },
  {
   "cell_type": "markdown",
   "id": "27f5a5e7",
   "metadata": {},
   "source": [
    "## Exploration\n",
    "Understanding the data, its types and identifying missing values"
   ]
  },
  {
   "cell_type": "code",
   "execution_count": null,
   "id": "2028451b",
   "metadata": {},
   "outputs": [],
   "source": [
    "import numpy as np\n",
    "import pandas as pd\n",
    "import matplotlib.pyplot as plt"
   ]
  },
  {
   "cell_type": "code",
   "execution_count": null,
   "id": "85bfd835",
   "metadata": {},
   "outputs": [],
   "source": [
    "data_src='/Users/josephthomas/Documents/Projects/Data Projects/chocolate-analysis/data/'"
   ]
  },
  {
   "cell_type": "code",
   "execution_count": null,
   "id": "af07d5f9",
   "metadata": {},
   "outputs": [],
   "source": [
    "df=pd.read_excel(data_src+'raw/Chocolate.xlsx')"
   ]
  },
  {
   "cell_type": "code",
   "execution_count": null,
   "id": "5bd73c6f",
   "metadata": {},
   "outputs": [],
   "source": [
    "df.info()"
   ]
  },
  {
   "cell_type": "code",
   "execution_count": null,
   "id": "2c368a7b",
   "metadata": {},
   "outputs": [],
   "source": [
    "df.isnull().sum()"
   ]
  },
  {
   "cell_type": "code",
   "execution_count": null,
   "id": "f009657c",
   "metadata": {},
   "outputs": [],
   "source": [
    "df[\"Ingredients\"].value_counts()"
   ]
  },
  {
   "cell_type": "code",
   "execution_count": null,
   "id": "614cdc09",
   "metadata": {},
   "outputs": [],
   "source": [
    "df[\"Company (Manufacturer)\"].value_counts()"
   ]
  },
  {
   "cell_type": "code",
   "execution_count": null,
   "id": "2a917c29",
   "metadata": {},
   "outputs": [],
   "source": [
    "df[\"Company Location\"].value_counts()"
   ]
  },
  {
   "cell_type": "code",
   "execution_count": null,
   "id": "5062509a",
   "metadata": {},
   "outputs": [],
   "source": [
    "df[\"Country of Bean Origin\"].value_counts()"
   ]
  },
  {
   "cell_type": "code",
   "execution_count": null,
   "id": "20762c8d",
   "metadata": {},
   "outputs": [],
   "source": [
    "df[\"Review Date\"].value_counts().reset_index().rename(columns={\"index\":\"Year\"}).sort_values(by=\"Year\",ascending=False)"
   ]
  },
  {
   "cell_type": "markdown",
   "id": "52f08395",
   "metadata": {},
   "source": [
    "## Cleaning the Data"
   ]
  },
  {
   "cell_type": "code",
   "execution_count": null,
   "id": "7bec1402",
   "metadata": {
    "scrolled": true
   },
   "outputs": [],
   "source": [
    "df.head(20)"
   ]
  },
  {
   "cell_type": "code",
   "execution_count": null,
   "id": "95058547",
   "metadata": {},
   "outputs": [],
   "source": [
    "df=df.dropna()"
   ]
  },
  {
   "cell_type": "code",
   "execution_count": null,
   "id": "39439738",
   "metadata": {},
   "outputs": [],
   "source": [
    "def seperateIngredientDummies(s):\n",
    "    a=s.split('-')[1].split(',')\n",
    "    return 'S' in a,'S*' in a,'C' in a,'V' in a,'L' in a,'Sa' in a\n"
   ]
  },
  {
   "cell_type": "code",
   "execution_count": null,
   "id": "dc5d050b",
   "metadata": {},
   "outputs": [],
   "source": [
    "df[\"SugarI\"],df[\"SweetenerI\"],df[\"CocoaButterI\"],df[\"VanillaI\"],df[\"LecithinI\"],df[\"SaltI\"]=zip(*df[\"Ingredients\"].map(seperateIngredientDummies))"
   ]
  },
  {
   "cell_type": "code",
   "execution_count": null,
   "id": "c0dbe120",
   "metadata": {},
   "outputs": [],
   "source": [
    "x=[df[\"SugarI\"],df[\"SweetenerI\"],df[\"CocoaButterI\"],df[\"VanillaI\"],df[\"LecithinI\"],df[\"SaltI\"]]"
   ]
  },
  {
   "cell_type": "code",
   "execution_count": null,
   "id": "a35605c8",
   "metadata": {},
   "outputs": [],
   "source": [
    "for i in x:\n",
    "    print(i.value_counts())"
   ]
  },
  {
   "cell_type": "code",
   "execution_count": null,
   "id": "aebb304e",
   "metadata": {},
   "outputs": [],
   "source": [
    "df.drop(\"Ingredients\",axis=1,inplace=True)"
   ]
  },
  {
   "cell_type": "code",
   "execution_count": null,
   "id": "6ae13e65",
   "metadata": {},
   "outputs": [],
   "source": [
    "df"
   ]
  },
  {
   "cell_type": "code",
   "execution_count": null,
   "id": "4990ceef",
   "metadata": {},
   "outputs": [],
   "source": [
    "temp=df[[\"Country of Bean Origin\", \"Specific Bean Origin or Bar Name\",\"Rating\"]][df[\"Country of Bean Origin\"]==\"Blend\"]"
   ]
  },
  {
   "cell_type": "code",
   "execution_count": null,
   "id": "f3c1d9a4",
   "metadata": {},
   "outputs": [],
   "source": [
    "temp[\"Specific Bean Origin or Bar Name\"].apply(lambda x: x.split(\",\")[0] if len(x.split(\",\"))==1 else None)"
   ]
  },
  {
   "cell_type": "code",
   "execution_count": null,
   "id": "856a70ec",
   "metadata": {},
   "outputs": [],
   "source": [
    "temp[\"A\"].value_counts()"
   ]
  },
  {
   "cell_type": "code",
   "execution_count": null,
   "id": "60b7f3c6",
   "metadata": {},
   "outputs": [],
   "source": [
    "plt.hist(temp[\"Rating\"],bins=10)"
   ]
  },
  {
   "cell_type": "code",
   "execution_count": null,
   "id": "3bc5b97b",
   "metadata": {},
   "outputs": [],
   "source": [
    "plt.hist(df[\"Rating\"][df[\"Country of Bean Origin\"]!=\"Blend\"])"
   ]
  },
  {
   "cell_type": "code",
   "execution_count": null,
   "id": "08d6c489",
   "metadata": {},
   "outputs": [],
   "source": [
    "df[[\"Country of Bean Origin\",\"Company Location\"]][df[\"Country of Bean Origin\"]==\"Blend\"].value_counts()"
   ]
  },
  {
   "cell_type": "code",
   "execution_count": null,
   "id": "6c381e78",
   "metadata": {},
   "outputs": [],
   "source": [
    "df[\"Company Location\"][df[\"Country of Bean Origin\"]!=\"Blend\"].value_counts().head(20)"
   ]
  },
  {
   "cell_type": "code",
   "execution_count": null,
   "id": "e3c92563",
   "metadata": {},
   "outputs": [],
   "source": []
  }
 ],
 "metadata": {
  "kernelspec": {
   "display_name": "Python 3 (ipykernel)",
   "language": "python",
   "name": "python3"
  },
  "language_info": {
   "codemirror_mode": {
    "name": "ipython",
    "version": 3
   },
   "file_extension": ".py",
   "mimetype": "text/x-python",
   "name": "python",
   "nbconvert_exporter": "python",
   "pygments_lexer": "ipython3",
   "version": "3.9.7"
  }
 },
 "nbformat": 4,
 "nbformat_minor": 5
}
