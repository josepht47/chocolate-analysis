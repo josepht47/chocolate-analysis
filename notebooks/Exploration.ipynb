{
 "cells": [
  {
   "cell_type": "code",
   "execution_count": 1,
   "id": "93a88853",
   "metadata": {},
   "outputs": [],
   "source": [
    "import numpy as np\n",
    "import pandas as pd\n",
    "import matplotlib.pyplot as plt"
   ]
  },
  {
   "cell_type": "code",
   "execution_count": 2,
   "id": "f3ed70ca",
   "metadata": {},
   "outputs": [
    {
     "data": {
      "text/plain": [
       "'/Users/josephthomas/Documents/Projects/Data Projects/chocolate-analysis/notebooks'"
      ]
     },
     "execution_count": 2,
     "metadata": {},
     "output_type": "execute_result"
    }
   ],
   "source": [
    "pwd"
   ]
  },
  {
   "cell_type": "code",
   "execution_count": 5,
   "id": "1aa2e9d1",
   "metadata": {},
   "outputs": [],
   "source": [
    "data_src='/Users/josephthomas/Documents/Projects/Data Projects/chocolate-analysis/data/'"
   ]
  },
  {
   "cell_type": "code",
   "execution_count": 6,
   "id": "de6243b0",
   "metadata": {},
   "outputs": [],
   "source": [
    "choc_df=pd.read_excel(data_src+'raw/Chocolate.xlsx')"
   ]
  },
  {
   "cell_type": "code",
   "execution_count": 48,
   "id": "a4d7b4e0",
   "metadata": {},
   "outputs": [
    {
     "name": "stdout",
     "output_type": "stream",
     "text": [
      "<class 'pandas.core.frame.DataFrame'>\n",
      "RangeIndex: 2530 entries, 0 to 2529\n",
      "Data columns (total 10 columns):\n",
      " #   Column                            Non-Null Count  Dtype  \n",
      "---  ------                            --------------  -----  \n",
      " 0   REF                               2530 non-null   int64  \n",
      " 1   Company (Manufacturer)            2530 non-null   object \n",
      " 2   Company Location                  2530 non-null   object \n",
      " 3   Review Date                       2530 non-null   int64  \n",
      " 4   Country of Bean Origin            2530 non-null   object \n",
      " 5   Specific Bean Origin or Bar Name  2530 non-null   object \n",
      " 6   Cocoa Percent                     2530 non-null   float64\n",
      " 7   Ingredients                       2443 non-null   object \n",
      " 8   Most Memorable Characteristics    2530 non-null   object \n",
      " 9   Rating                            2530 non-null   float64\n",
      "dtypes: float64(2), int64(2), object(6)\n",
      "memory usage: 197.8+ KB\n"
     ]
    }
   ],
   "source": [
    "choc_df.info()"
   ]
  },
  {
   "cell_type": "code",
   "execution_count": 21,
   "id": "396501ba",
   "metadata": {},
   "outputs": [],
   "source": [
    "temp=choc_df[\"Ingredients\"].str.split(\"-\",expand=True)[1]"
   ]
  },
  {
   "cell_type": "code",
   "execution_count": 22,
   "id": "b40a3901",
   "metadata": {},
   "outputs": [
    {
     "data": {
      "text/plain": [
       "0        B,S,C\n",
       "1        B,S,C\n",
       "2        B,S,C\n",
       "3        B,S,C\n",
       "4          NaN\n",
       "         ...  \n",
       "2525       B,S\n",
       "2526       B,S\n",
       "2527       B,S\n",
       "2528       B,S\n",
       "2529       B,S\n",
       "Name: 1, Length: 2530, dtype: object"
      ]
     },
     "execution_count": 22,
     "metadata": {},
     "output_type": "execute_result"
    }
   ],
   "source": [
    "temp"
   ]
  },
  {
   "cell_type": "code",
   "execution_count": 25,
   "id": "a3e46b7f",
   "metadata": {},
   "outputs": [
    {
     "data": {
      "text/plain": [
       "3- B,S,C          999\n",
       "2- B,S            718\n",
       "4- B,S,C,L        286\n",
       "5- B,S,C,V,L      184\n",
       "4- B,S,C,V        141\n",
       "2- B,S*            31\n",
       "4- B,S*,C,Sa       20\n",
       "3- B,S*,C          12\n",
       "3- B,S,L            8\n",
       "4- B,S*,C,V         7\n",
       "5-B,S,C,V,Sa        6\n",
       "1- B                6\n",
       "4- B,S,V,L          5\n",
       "4- B,S,C,Sa         5\n",
       "6-B,S,C,V,L,Sa      4\n",
       "4- B,S*,V,L         3\n",
       "3- B,S,V            3\n",
       "4- B,S*,C,L         2\n",
       "3- B,S*,Sa          1\n",
       "5- B,S,C,L,Sa       1\n",
       "2- B,C              1\n",
       "Name: Ingredients, dtype: int64"
      ]
     },
     "execution_count": 25,
     "metadata": {},
     "output_type": "execute_result"
    }
   ],
   "source": [
    "choc_df[\"Ingredients\"].value_counts()"
   ]
  },
  {
   "cell_type": "code",
   "execution_count": 27,
   "id": "4ae9e3d4",
   "metadata": {},
   "outputs": [
    {
     "data": {
      "text/plain": [
       "87"
      ]
     },
     "execution_count": 27,
     "metadata": {},
     "output_type": "execute_result"
    }
   ],
   "source": [
    "choc_df[\"Ingredients\"].isnull().sum()"
   ]
  },
  {
   "cell_type": "code",
   "execution_count": 28,
   "id": "0d8e341a",
   "metadata": {},
   "outputs": [
    {
     "data": {
      "text/plain": [
       "Soma              56\n",
       "Fresco            39\n",
       "Arete             32\n",
       "Bonnat            30\n",
       "A. Morin          26\n",
       "                  ..\n",
       "Levy               1\n",
       "Pinellas           1\n",
       "Nearynogs          1\n",
       "Cuna de Piedra     1\n",
       "Peppalo            1\n",
       "Name: Company (Manufacturer), Length: 580, dtype: int64"
      ]
     },
     "execution_count": 28,
     "metadata": {},
     "output_type": "execute_result"
    }
   ],
   "source": [
    "choc_df[\"Company (Manufacturer)\"].value_counts()"
   ]
  },
  {
   "cell_type": "code",
   "execution_count": 30,
   "id": "b802e459",
   "metadata": {},
   "outputs": [
    {
     "data": {
      "text/plain": [
       "U.S.A.                   1136\n",
       "Canada                    177\n",
       "France                    176\n",
       "U.K.                      133\n",
       "Italy                      78\n",
       "                         ... \n",
       "Ghana                       1\n",
       "Suriname                    1\n",
       "Martinique                  1\n",
       "St.Vincent-Grenadines       1\n",
       "Wales                       1\n",
       "Name: Company Location, Length: 67, dtype: int64"
      ]
     },
     "execution_count": 30,
     "metadata": {},
     "output_type": "execute_result"
    }
   ],
   "source": [
    "choc_df[\"Company Location\"].value_counts()"
   ]
  },
  {
   "cell_type": "code",
   "execution_count": 35,
   "id": "c0d97c9c",
   "metadata": {},
   "outputs": [
    {
     "data": {
      "text/plain": [
       "Venezuela             253\n",
       "Peru                  244\n",
       "Dominican Republic    226\n",
       "Ecuador               219\n",
       "Madagascar            177\n",
       "                     ... \n",
       "Sulawesi                1\n",
       "Suriname                1\n",
       "Gabon                   1\n",
       "Burma                   1\n",
       "Principe                1\n",
       "Name: Country of Bean Origin, Length: 62, dtype: int64"
      ]
     },
     "execution_count": 35,
     "metadata": {},
     "output_type": "execute_result"
    }
   ],
   "source": [
    "choc_df[\"Country of Bean Origin\"].value_counts()"
   ]
  },
  {
   "cell_type": "code",
   "execution_count": 47,
   "id": "0c53f4a9",
   "metadata": {},
   "outputs": [
    {
     "data": {
      "text/html": [
       "<div>\n",
       "<style scoped>\n",
       "    .dataframe tbody tr th:only-of-type {\n",
       "        vertical-align: middle;\n",
       "    }\n",
       "\n",
       "    .dataframe tbody tr th {\n",
       "        vertical-align: top;\n",
       "    }\n",
       "\n",
       "    .dataframe thead th {\n",
       "        text-align: right;\n",
       "    }\n",
       "</style>\n",
       "<table border=\"1\" class=\"dataframe\">\n",
       "  <thead>\n",
       "    <tr style=\"text-align: right;\">\n",
       "      <th></th>\n",
       "      <th>index</th>\n",
       "      <th>Review Date</th>\n",
       "    </tr>\n",
       "  </thead>\n",
       "  <tbody>\n",
       "    <tr>\n",
       "      <th>7</th>\n",
       "      <td>2021</td>\n",
       "      <td>175</td>\n",
       "    </tr>\n",
       "    <tr>\n",
       "      <th>13</th>\n",
       "      <td>2020</td>\n",
       "      <td>81</td>\n",
       "    </tr>\n",
       "    <tr>\n",
       "      <th>5</th>\n",
       "      <td>2019</td>\n",
       "      <td>193</td>\n",
       "    </tr>\n",
       "    <tr>\n",
       "      <th>2</th>\n",
       "      <td>2018</td>\n",
       "      <td>228</td>\n",
       "    </tr>\n",
       "    <tr>\n",
       "      <th>11</th>\n",
       "      <td>2017</td>\n",
       "      <td>105</td>\n",
       "    </tr>\n",
       "    <tr>\n",
       "      <th>3</th>\n",
       "      <td>2016</td>\n",
       "      <td>217</td>\n",
       "    </tr>\n",
       "    <tr>\n",
       "      <th>0</th>\n",
       "      <td>2015</td>\n",
       "      <td>284</td>\n",
       "    </tr>\n",
       "    <tr>\n",
       "      <th>1</th>\n",
       "      <td>2014</td>\n",
       "      <td>247</td>\n",
       "    </tr>\n",
       "    <tr>\n",
       "      <th>6</th>\n",
       "      <td>2013</td>\n",
       "      <td>183</td>\n",
       "    </tr>\n",
       "    <tr>\n",
       "      <th>4</th>\n",
       "      <td>2012</td>\n",
       "      <td>194</td>\n",
       "    </tr>\n",
       "    <tr>\n",
       "      <th>8</th>\n",
       "      <td>2011</td>\n",
       "      <td>163</td>\n",
       "    </tr>\n",
       "    <tr>\n",
       "      <th>10</th>\n",
       "      <td>2010</td>\n",
       "      <td>110</td>\n",
       "    </tr>\n",
       "    <tr>\n",
       "      <th>9</th>\n",
       "      <td>2009</td>\n",
       "      <td>123</td>\n",
       "    </tr>\n",
       "    <tr>\n",
       "      <th>12</th>\n",
       "      <td>2008</td>\n",
       "      <td>92</td>\n",
       "    </tr>\n",
       "    <tr>\n",
       "      <th>14</th>\n",
       "      <td>2007</td>\n",
       "      <td>73</td>\n",
       "    </tr>\n",
       "    <tr>\n",
       "      <th>15</th>\n",
       "      <td>2006</td>\n",
       "      <td>62</td>\n",
       "    </tr>\n",
       "  </tbody>\n",
       "</table>\n",
       "</div>"
      ],
      "text/plain": [
       "    index  Review Date\n",
       "7    2021          175\n",
       "13   2020           81\n",
       "5    2019          193\n",
       "2    2018          228\n",
       "11   2017          105\n",
       "3    2016          217\n",
       "0    2015          284\n",
       "1    2014          247\n",
       "6    2013          183\n",
       "4    2012          194\n",
       "8    2011          163\n",
       "10   2010          110\n",
       "9    2009          123\n",
       "12   2008           92\n",
       "14   2007           73\n",
       "15   2006           62"
      ]
     },
     "execution_count": 47,
     "metadata": {},
     "output_type": "execute_result"
    }
   ],
   "source": [
    "choc_df[\"Review Date\"].value_counts().reset_index().sort_values(by=\"index\",ascending=False)"
   ]
  },
  {
   "cell_type": "code",
   "execution_count": null,
   "id": "454fbe5b",
   "metadata": {},
   "outputs": [],
   "source": []
  }
 ],
 "metadata": {
  "kernelspec": {
   "display_name": "Python 3 (ipykernel)",
   "language": "python",
   "name": "python3"
  },
  "language_info": {
   "codemirror_mode": {
    "name": "ipython",
    "version": 3
   },
   "file_extension": ".py",
   "mimetype": "text/x-python",
   "name": "python",
   "nbconvert_exporter": "python",
   "pygments_lexer": "ipython3",
   "version": "3.9.7"
  }
 },
 "nbformat": 4,
 "nbformat_minor": 5
}
